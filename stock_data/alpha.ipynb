{
 "cells": [
  {
   "cell_type": "code",
   "execution_count": 1,
   "metadata": {},
   "outputs": [],
   "source": [
    "import pandas as pd\n",
    "import requests\n",
    "import pprint\n",
    "from os import listdir\n",
    "from os.path import isfile, join\n",
    "import time\n",
    "from io import StringIO\n",
    "\n",
    "from datetime import date, timedelta\n",
    "\n",
    "# Alpha vantage API Key\n",
    "key = '8QPFRIXVADNQBDHD'"
   ]
  },
  {
   "cell_type": "code",
   "execution_count": 2,
   "metadata": {},
   "outputs": [],
   "source": [
    "tickers = ['SPY', 'QQQ', 'DIA']"
   ]
  },
  {
   "cell_type": "code",
   "execution_count": 8,
   "metadata": {},
   "outputs": [],
   "source": [
    "def get_data(ticker:str, interval:str, slice:str, datatype:str=\"csv\") -> pd.DataFrame:\n",
    "    key = \"8QPFRIXVADNQBDHD\"\n",
    "    function = \"TIME_SERIES_INTRADAY_EXTENDED\"\n",
    "    outputsize = \"full\"\n",
    "    url = f\"https://www.alphavantage.co/query?function={function}&symbol={ticker}&interval={interval}&slice={slice}&apikey={key}&outputsize={outputsize}&datatype={datatype}\"\n",
    "    response = requests.get(url)\n",
    "    if response.status_code == 200:\n",
    "        if datatype == \"csv\":\n",
    "            data = response.content.decode('utf-8')\n",
    "            df_ticker = pd.read_csv(StringIO(data))\n",
    "            df_ticker = df_ticker.set_index('time')\n",
    "        else:\n",
    "            \n",
    "            print(data)\n",
    "    else:\n",
    "        print(f'Failed: {ticker}, recieved response code {response.status_code }')\n",
    "    return df_ticker"
   ]
  },
  {
   "cell_type": "code",
   "execution_count": 7,
   "metadata": {},
   "outputs": [
    {
     "name": "stdout",
     "output_type": "stream",
     "text": [
      "                           open        high         low       close  volume\n",
      "time                                                                       \n",
      "2022-03-10 04:01:00  423.189539  424.196445  423.189539  423.957180   16037\n",
      "2022-03-10 04:02:00  424.266231  424.495526  424.256261  424.495526    4644\n",
      "2022-03-10 04:03:00  424.385863  424.395833  424.096752  424.256261    1201\n",
      "2022-03-10 04:04:00  424.216384  424.216384  424.106721  424.106721     516\n",
      "2022-03-10 04:05:00  424.495526  424.495526  424.485557  424.495526     709\n",
      "...                         ...         ...         ...         ...     ...\n",
      "2022-04-08 19:55:00  447.250000  447.250000  447.240000  447.250000     641\n",
      "2022-04-08 19:57:00  447.200000  447.200000  447.200000  447.200000     468\n",
      "2022-04-08 19:58:00  447.240000  447.240000  447.240000  447.240000     219\n",
      "2022-04-08 19:59:00  447.200000  447.240000  447.200000  447.240000    1367\n",
      "2022-04-08 20:00:00  447.200000  447.240000  447.200000  447.240000    1139\n",
      "\n",
      "[18426 rows x 5 columns]\n"
     ]
    }
   ],
   "source": [
    "ticker = 'SPY'\n",
    "year = 1\n",
    "month = 1\n",
    "interval = '1min'\n",
    "slice = f'year{year}month{month}'\n",
    "df_ticker = get_data(ticker=ticker, interval=interval, slice=slice)\n",
    "df_ticker = df_ticker.sort_index()\n",
    "print(df_ticker)"
   ]
  },
  {
   "cell_type": "code",
   "execution_count": null,
   "metadata": {},
   "outputs": [],
   "source": []
  },
  {
   "cell_type": "code",
   "execution_count": 5,
   "metadata": {},
   "outputs": [],
   "source": [
    "ticker = 'DIA'\n",
    "interval = '1min'\n",
    "for year in range(1,3):\n",
    "    for month in range(1,13):\n",
    "        slice = f'year{year}month{month}'\n",
    "        interval = '1min'\n",
    "        if year == 1 and month == 1:\n",
    "            df_ticker = get_data(ticker=ticker, interval=interval, slice=slice)\n",
    "        else:\n",
    "            df_ticker_temp = get_data(ticker=ticker, interval=interval, slice=slice)\n",
    "            df_ticker = pd.concat([df_ticker, df_ticker_temp])\n",
    "        time.sleep(12)\n",
    "\n",
    "df_ticker = df_ticker.sort_index()\n",
    "\n",
    "file_name = f'tickers_raw/{ticker}_{interval}.csv'\n",
    "df_ticker.to_csv(file_name)"
   ]
  },
  {
   "cell_type": "code",
   "execution_count": 9,
   "metadata": {},
   "outputs": [
    {
     "name": "stdout",
     "output_type": "stream",
     "text": [
      "(416669, 5)\n"
     ]
    }
   ],
   "source": [
    "print(df_ticker.shape)\n",
    "df_ticker.to_csv(file_name)"
   ]
  },
  {
   "cell_type": "code",
   "execution_count": null,
   "metadata": {},
   "outputs": [],
   "source": []
  }
 ],
 "metadata": {
  "interpreter": {
   "hash": "833137049081c3c9dfeff050e12f032c4b55da4a5e88c39e27137baae14480ed"
  },
  "kernelspec": {
   "display_name": "Python 3.9.7 ('odl')",
   "language": "python",
   "name": "python3"
  },
  "language_info": {
   "codemirror_mode": {
    "name": "ipython",
    "version": 3
   },
   "file_extension": ".py",
   "mimetype": "text/x-python",
   "name": "python",
   "nbconvert_exporter": "python",
   "pygments_lexer": "ipython3",
   "version": "3.9.7"
  },
  "orig_nbformat": 4
 },
 "nbformat": 4,
 "nbformat_minor": 2
}
