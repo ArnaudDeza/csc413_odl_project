{
 "cells": [
  {
   "cell_type": "code",
   "execution_count": 2,
   "metadata": {},
   "outputs": [],
   "source": [
    "import pandas as pd\n",
    "import requests\n",
    "import pprint\n",
    "from os import listdir\n",
    "from os.path import isfile, join\n",
    "import time\n",
    "from io import StringIO\n",
    "\n",
    "from datetime import date, timedelta\n",
    "\n",
    "# Alpha vantage API Key\n",
    "key = '8QPFRIXVADNQBDHD'"
   ]
  },
  {
   "cell_type": "code",
   "execution_count": 3,
   "metadata": {},
   "outputs": [],
   "source": [
    "tickers = ['SPY', 'QQQ', 'DIA']"
   ]
  },
  {
   "cell_type": "code",
   "execution_count": 4,
   "metadata": {},
   "outputs": [],
   "source": [
    "def get_data(ticker:str, interval:str, slice:str) -> pd.DataFrame:\n",
    "    key = \"8QPFRIXVADNQBDHD\"\n",
    "    function = \"TIME_SERIES_INTRADAY_EXTENDED\"\n",
    "    outputsize = \"full\"\n",
    "    datatype = \"csv\"\n",
    "    url = f\"https://www.alphavantage.co/query?function={function}&symbol={ticker}&interval={interval}&slice={slice}&apikey={key}&outputsize={outputsize}&datatype={datatype}\"\n",
    "    response = requests.get(url)\n",
    "    if response.status_code == 200:\n",
    "        data = response.content.decode('utf-8')\n",
    "        df_ticker = pd.read_csv(StringIO(data))\n",
    "        df_ticker = df_ticker.set_index('time')\n",
    "        time.sleep(12)\n",
    "    else:\n",
    "        print(f'Failed: {ticker}, recieved response code {response.status_code }')\n",
    "    return df_ticker"
   ]
  },
  {
   "cell_type": "code",
   "execution_count": 5,
   "metadata": {},
   "outputs": [],
   "source": [
    "ticker = 'DIA'\n",
    "year = 1\n",
    "month = 1\n",
    "interval = '1min'\n",
    "for year in range(1,3):\n",
    "    for month in range(1,13):\n",
    "        slice = f'year{year}month{month}'\n",
    "        interval = '1min'\n",
    "        if year == 1 and month == 1:\n",
    "            df_ticker = get_data(ticker=ticker, interval=interval, slice=slice)\n",
    "        else:\n",
    "            df_ticker_temp = get_data(ticker=ticker, interval=interval, slice=slice)\n",
    "            df_ticker = pd.concat([df_ticker, df_ticker_temp])\n",
    "\n",
    "df_ticker = df_ticker.sort_index()\n",
    "\n",
    "file_name = f'tickers_raw/{ticker}_{interval}'\n",
    "df_ticker.to_csv(file_name)"
   ]
  },
  {
   "cell_type": "code",
   "execution_count": 9,
   "metadata": {},
   "outputs": [
    {
     "name": "stdout",
     "output_type": "stream",
     "text": [
      "(416669, 5)\n"
     ]
    }
   ],
   "source": [
    "print(df_ticker.shape)\n",
    "df_ticker.to_csv(file_name)"
   ]
  },
  {
   "cell_type": "code",
   "execution_count": null,
   "metadata": {},
   "outputs": [],
   "source": []
  }
 ],
 "metadata": {
  "interpreter": {
   "hash": "833137049081c3c9dfeff050e12f032c4b55da4a5e88c39e27137baae14480ed"
  },
  "kernelspec": {
   "display_name": "Python 3.9.7 ('odl')",
   "language": "python",
   "name": "python3"
  },
  "language_info": {
   "codemirror_mode": {
    "name": "ipython",
    "version": 3
   },
   "file_extension": ".py",
   "mimetype": "text/x-python",
   "name": "python",
   "nbconvert_exporter": "python",
   "pygments_lexer": "ipython3",
   "version": "3.9.7"
  },
  "orig_nbformat": 4
 },
 "nbformat": 4,
 "nbformat_minor": 2
}
