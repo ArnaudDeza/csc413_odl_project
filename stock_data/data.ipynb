{
 "cells": [
  {
   "cell_type": "code",
   "execution_count": 40,
   "metadata": {},
   "outputs": [],
   "source": [
    "import pandas as pd\n",
    "import numpy as np\n",
    "import datetime as dt\n",
    "import os"
   ]
  },
  {
   "cell_type": "code",
   "execution_count": 55,
   "metadata": {},
   "outputs": [],
   "source": [
    "def clean_tickers(ticker:str, time_start:dt.time, time_end:dt.time, window_size:int, time_step:int):\n",
    "    # load data\n",
    "    stock_df = pd.read_csv(f\"tickers_raw/{ticker}_1min.csv\", parse_dates=['time'])\n",
    "\n",
    "    # separate date time\n",
    "    stock_df['date'] = stock_df['time'].dt.date\n",
    "    stock_df['time'] = stock_df['time'].dt.time\n",
    "    stock_df.head()\n",
    "\n",
    "    # pivot data by day to clean data\n",
    "    stock_df = stock_df.pivot(index='time', columns='date', values='high')\n",
    "    stock_df = stock_df.fillna(method=\"ffill\") # fill in NAN by propagating last valid observation forward\n",
    "    stock_df = stock_df[stock_df.index >= time_start] # keep only data in range\n",
    "    stock_df = stock_df[stock_df.index <= time_end] # keep only data in range\n",
    "\n",
    "    # transform data so that each row is a a different day\n",
    "    stock_df = stock_df.T\n",
    "\n",
    "    # retain the opening and closing price of everyday to make it easier later\n",
    "    stock_df_close = stock_df.iloc[:-(window_size+1) , -1]\n",
    "    stock_df_open = stock_df.iloc[window_size+1:, 1]\n",
    "\n",
    "    # drop columns to be within correct time_step frequency\n",
    "    keep_cols = range(0, stock_df.shape[1], time_step)\n",
    "    stock_df = stock_df.iloc[:, keep_cols]\n",
    "\n",
    "    # create rowlling window\n",
    "    stock_df_original = stock_df.copy()\n",
    "    stock_df = stock_df.iloc[1: -(window_size), :]\n",
    "\n",
    "    for i in range(1, window_size, 1):\n",
    "        stock_df_add = stock_df_original.iloc[i:stock_df.shape[0]+i, :]\n",
    "        stock_df_add.index = stock_df.index\n",
    "        stock_df = pd.concat([stock_df, stock_df_add], axis=1)\n",
    "\n",
    "    # normalize data using closing price of previous trading day\n",
    "    stock_df_close.index = stock_df.index\n",
    "    stock_df = stock_df.sub(stock_df_close, axis=0)\n",
    "\n",
    "    # add targets\n",
    "    stock_df_open.index = stock_df_close.index\n",
    "    targets = np.where(stock_df_open >= stock_df_close, 1, 0)\n",
    "    stock_df['targets'] = targets\n",
    "\n",
    "    #save csv\n",
    "    stock_df.to_csv(f\"tickers_processed/{ticker}_window{window_size}_time{time_step}_features{stock_df.shape[1]-1}.csv\", index=True)\n",
    "    \n",
    "    #save numpy\n",
    "    stock_npz = stock_df.to_numpy()\n",
    "    np.savez(f\"tickers_processed/{ticker}_window{window_size}_time{time_step}_features{stock_df.shape[1]-1}.npz\", stock_npz)\n",
    "    return "
   ]
  },
  {
   "cell_type": "code",
   "execution_count": 60,
   "metadata": {},
   "outputs": [],
   "source": [
    "tickers = ['SPY', 'QQQ', 'DIA']\n",
    "\n",
    "# we are using extended hours trading date which is from 4:00 am - 8:00 pm\n",
    "time_start = dt.time(9,30,0)\n",
    "time_end = dt.time(16,00,0)\n",
    "window_size =  15  # in days i.e. window_size = 15 means window has 15 days\n",
    "time_step = 15 # in minutes i.e. time_step = 10 is stock data every 10 minutes\n",
    "\n",
    "for ticker in tickers:\n",
    "    clean_tickers(ticker, time_start, time_end, window_size, time_step)"
   ]
  },
  {
   "cell_type": "code",
   "execution_count": 10,
   "metadata": {},
   "outputs": [],
   "source": [
    "# lables data as up or down\n",
    "\n",
    "# file_path = \"tickers\"\n",
    "# files = os.listdir(file_path)\n",
    "\n",
    "# for file in files:\n",
    "#     ticker = file.split(\".\")[0]\n",
    "#     security_df = pd.read_csv(f\"{file_path}/{file}\", parse_dates=['date'])\n",
    "#     security_df = security_df[['date', 'adj_close']].set_index('date')\n",
    "#     security_df_diff = security_df.iloc[1:] - security_df.iloc[:-1].values\n",
    "#     security_df_diff.columns = ['diff']\n",
    "#     security_df_diff = security_df_diff.applymap(lambda x: 1 if x >= 0 else 0)\n",
    "#     security_df_diff.to_csv(f\"tickers_bool/{ticker}_bool.csv\", index=True,)\n",
    "#     break"
   ]
  }
 ],
 "metadata": {
  "interpreter": {
   "hash": "833137049081c3c9dfeff050e12f032c4b55da4a5e88c39e27137baae14480ed"
  },
  "kernelspec": {
   "display_name": "Python 3.9.7 ('odl')",
   "language": "python",
   "name": "python3"
  },
  "language_info": {
   "codemirror_mode": {
    "name": "ipython",
    "version": 3
   },
   "file_extension": ".py",
   "mimetype": "text/x-python",
   "name": "python",
   "nbconvert_exporter": "python",
   "pygments_lexer": "ipython3",
   "version": "3.9.7"
  },
  "orig_nbformat": 4
 },
 "nbformat": 4,
 "nbformat_minor": 2
}
