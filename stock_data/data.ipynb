{
 "cells": [
  {
   "cell_type": "code",
   "execution_count": 1,
   "metadata": {},
   "outputs": [],
   "source": [
    "import pandas as pd\n",
    "import numpy as np\n",
    "import os"
   ]
  },
  {
   "cell_type": "code",
   "execution_count": 4,
   "metadata": {},
   "outputs": [],
   "source": [
    "file_path = \"tickers\"\n",
    "files = os.listdir(file_path)\n",
    "\n",
    "for file in files:\n",
    "    ticker = file.split(\".\")[0]\n",
    "    security_df = pd.read_csv(f\"{file_path}/{file}\", parse_dates=['date'])\n",
    "    security_df = security_df[['date', 'adj_close']].set_index('date')\n",
    "    security_df_diff = security_df.iloc[1:] - security_df.iloc[:-1].values\n",
    "    security_df_diff.columns = ['diff']\n",
    "    security_df_diff = security_df_diff.applymap(lambda x: 1 if x >= 0 else 0)\n",
    "    security_df_diff.to_csv(f\"tickers_bool/{ticker}_bool.csv\", index=True,)\n"
   ]
  }
 ],
 "metadata": {
  "interpreter": {
   "hash": "833137049081c3c9dfeff050e12f032c4b55da4a5e88c39e27137baae14480ed"
  },
  "kernelspec": {
   "display_name": "Python 3.9.7 ('odl')",
   "language": "python",
   "name": "python3"
  },
  "language_info": {
   "codemirror_mode": {
    "name": "ipython",
    "version": 3
   },
   "file_extension": ".py",
   "mimetype": "text/x-python",
   "name": "python",
   "nbconvert_exporter": "python",
   "pygments_lexer": "ipython3",
   "version": "3.9.7"
  },
  "orig_nbformat": 4
 },
 "nbformat": 4,
 "nbformat_minor": 2
}
